{
 "cells": [
  {
   "cell_type": "markdown",
   "id": "7915831e",
   "metadata": {},
   "source": [
    "# Preprocesamiento imágenes cultivos de arroz"
   ]
  },
  {
   "cell_type": "markdown",
   "id": "e03b8b8b",
   "metadata": {},
   "source": [
    "## Índice\n",
    "0. [Objetivo y alcance](#objective)\n",
    "1. [Análisis inicial](#analysis)\n",
    "  1. [Análisis imagen 1](#analysis1)\n",
    "  2. [Análisis imagen 2](#analysis2)\n",
    "  3. [Análisis imagen 3](#analysis3)\n",
    "  4. [Análisis imagen 4](#analysis4)\n",
    "2. [Medidas de eficiencia](#measures)\n",
    "3. [Algoritmo transformación](#conversion)\n",
    "4. [Resultados](#results)  \n",
    "  1. [Resultados imagen 1](#res1)\n",
    "  2. [Resultados imagen 2](#res2)\n",
    "  3. [Resultados imagen 3](#res3)\n",
    "  4. [Resultados imagen 4](#res4)\n",
    "7. [Referencias](#references)\n"
   ]
  },
  {
   "cell_type": "markdown",
   "id": "fc2145e7",
   "metadata": {},
   "source": [
    "## <a name=\"objective\"></a>0. Objetivo y alcance\n",
    "El objetivo de este notebook es presentar las técnicas utilizadas para el preprocesamiento de imágenes de cultivo de arroz.\n",
    "\n",
    "Las técnicas utilizadas están orientadas a identificar el área de masa vegetal, para ello utilizarán técnicas de mejora de contraste, normalización del brillo, transformación del espacio cromático, erosión y dilatación matricial.\n",
    "\n",
    "\n",
    "Ejemplos de imágenes de entrada:\n",
    "<table>\n",
    "    <tr>\n",
    "        <td><img src=\"images/campo01.png\" alt=\"Ejemplo imagen 1\" style=\"width:200px;height:200px\"/></td>\n",
    "        <td><img src=\"images/campo02.png\" alt=\"Ejemplo imagen 2\" style=\"width:200px;height:200px\"/></td>\n",
    "        <td><img src=\"images/campo03.jpg\" alt=\"Ejemplo imagen 3\" style=\"width:200px;height:200px\"/></td>\n",
    "        <td><img src=\"images/campo04.jpeg\" alt=\"Ejemplo imagen 4\" style=\"width:200px;height:200px\"/></td>\n",
    "    </tr>\n",
    "</table>"
   ]
  },
  {
   "cell_type": "markdown",
   "id": "ef7c4ae9",
   "metadata": {},
   "source": [
    "## <a name=\"analysis\"></a>1. Análisis inicial\n",
    "\n",
    "El análisis inicial contiene métodos para la visualización del histograma utilizando el modelo de color RGB. Además, contiene el método para la ecualización de dicho histograma."
   ]
  },
  {
   "cell_type": "code",
   "execution_count": null,
   "id": "5f2cd04f",
   "metadata": {},
   "outputs": [],
   "source": [
    "import numpy as np\n",
    "import cv2 as cv\n",
    "import math as mt\n",
    "import matplotlib.pyplot as plt\n",
    "\n",
    "\n",
    "def get_image(image_path):\n",
    "    \"\"\"Get image object (np array) given a path\"\"\"\n",
    "    return cv.imread(image_path)\n",
    "\n",
    "\n",
    "def show_histogram(image, title='histogram'):\n",
    "    \"\"\"Show Histogram for BGR image\"\"\"\n",
    "    color = ('b','g','r')\n",
    "    for i,col in enumerate(color):\n",
    "        hist = cv.calcHist([image],[i],None,[256],[0,256])\n",
    "        plt.plot(hist,color = col)\n",
    "        plt.xlim([0,256])\n",
    "\n",
    "    plt.title(title)\n",
    "    plt.show()\n",
    "\n",
    "    \n",
    "def show_histogram_channel(image, channel):\n",
    "    \"\"\"Show Histogram specifying the channel (0: blue,1:green,2:red)\"\"\"\n",
    "    color = ('b','g','r')\n",
    "    \n",
    "    hist = cv.calcHist([image],[channel],None,[256],[0,256])\n",
    "    plt.plot(hist,color = color[channel])\n",
    "    plt.xlim([0,256])\n",
    "    plt.show()\n",
    "\n",
    "    \n",
    "def get_image_histogram_equalization(image):\n",
    "    \"\"\"\n",
    "    Calculate histogram equalization \n",
    "    - Returns: image with equalized histogram\n",
    "    \"\"\"\n",
    "    \n",
    "    # Split BGR channels\n",
    "    blue, green, red = cv.split(image)\n",
    "    \n",
    "    # Equalize histogram for each channel independtly\n",
    "    blue_equalized = cv.equalizeHist(blue)\n",
    "    green_equalized = cv.equalizeHist(green)\n",
    "    red_equalized = cv.equalizeHist(red)\n",
    "\n",
    "    # Merge BRG channels\n",
    "    image_full_equalized = cv.merge((blue_equalized,green_equalized,red_equalized))\n",
    "    \n",
    "    return image_full_equalized\n",
    "\n",
    "\n",
    "def visualize(image1, image2):\n",
    "    \"\"\"Show 2 images in a 2 grid\"\"\"\n",
    "    f, (ax1, ax2) = plt.subplots(1, 2, figsize=(30,30))\n",
    "    ax1.imshow(cv.cvtColor(image1, cv.COLOR_BGR2RGB))\n",
    "    ax2.imshow(cv.cvtColor(image2, cv.COLOR_BGR2RGB))"
   ]
  },
  {
   "cell_type": "markdown",
   "id": "bcffe1ad",
   "metadata": {},
   "source": [
    "### <a name=\"analysis1\"></a>Análisis imagen 1"
   ]
  },
  {
   "cell_type": "code",
   "execution_count": null,
   "id": "e918fcd7",
   "metadata": {},
   "outputs": [],
   "source": [
    "image_path_1 = './images/campo01.png'\n",
    "image_1 = get_image(image_path_1)\n",
    "image_equalized_1 = get_image_histogram_equalization(image_1)\n",
    "visualize(image_1, image_equalized_1)"
   ]
  },
  {
   "cell_type": "code",
   "execution_count": null,
   "id": "2db8959c",
   "metadata": {},
   "outputs": [],
   "source": [
    "show_histogram(image_1, 'image_original histogram')\n",
    "show_histogram(image_equalized_1, 'image_equalized_histogram')"
   ]
  },
  {
   "cell_type": "markdown",
   "id": "0d7cc356",
   "metadata": {},
   "source": [
    "### <a name=\"analysis2\"></a>Análisis imagen 2"
   ]
  },
  {
   "cell_type": "code",
   "execution_count": null,
   "id": "21cb9386",
   "metadata": {},
   "outputs": [],
   "source": [
    "image_path_2 = './images/campo02.png'\n",
    "image_2 = get_image(image_path_2)\n",
    "image_equalized_2 = get_image_histogram_equalization(image_2)\n",
    "visualize(image_2, image_equalized_2)"
   ]
  },
  {
   "cell_type": "code",
   "execution_count": null,
   "id": "caa830f1",
   "metadata": {},
   "outputs": [],
   "source": [
    "show_histogram(image_2, 'image_original histogram')\n",
    "show_histogram(image_equalized_2, 'image_equalized_histogram')"
   ]
  },
  {
   "cell_type": "markdown",
   "id": "28a7b7ff",
   "metadata": {},
   "source": [
    "### <a name=\"analysis3\"></a>Análisis imagen 3"
   ]
  },
  {
   "cell_type": "code",
   "execution_count": null,
   "id": "ef28e675",
   "metadata": {},
   "outputs": [],
   "source": [
    "image_path_3 = './images/campo03.jpg'\n",
    "image_3 = get_image(image_path_3)\n",
    "image_equalized_3 = get_image_histogram_equalization(image_3)\n",
    "visualize(image_3, image_equalized_3)"
   ]
  },
  {
   "cell_type": "code",
   "execution_count": null,
   "id": "a4de084d",
   "metadata": {},
   "outputs": [],
   "source": [
    "show_histogram(image_3, 'image_original histogram')\n",
    "show_histogram(image_equalized_3, 'image_equalized_histogram')"
   ]
  },
  {
   "cell_type": "markdown",
   "id": "ffa43103",
   "metadata": {},
   "source": [
    "### <a name=\"analysis4\"></a>Análisis imagen 4"
   ]
  },
  {
   "cell_type": "code",
   "execution_count": null,
   "id": "ff407c3e",
   "metadata": {},
   "outputs": [],
   "source": [
    "image_path_4 = './images/campo04.jpeg'\n",
    "image_4 = get_image(image_path_4)\n",
    "image_equalized_4 = get_image_histogram_equalization(image_4)\n",
    "visualize(image_4, image_equalized_4)"
   ]
  },
  {
   "cell_type": "code",
   "execution_count": null,
   "id": "ffaa609c",
   "metadata": {},
   "outputs": [],
   "source": [
    "show_histogram(image_4, 'image_original histogram')\n",
    "show_histogram(image_equalized_4, 'image_equalized_histogram')"
   ]
  },
  {
   "cell_type": "markdown",
   "id": "f0daf6d0",
   "metadata": {},
   "source": [
    "## <a name=\"measures\"></a>2. Medidas de eficiencia, contando objetos\n",
    "\n",
    "Los siguientes métodos utilizan el algoritmo de Canny para tratar de contabilizar el número de plantas de arroz para poder contrastar la eficiencia del algoritmo implementado como solución a los problemas de ruido (Algoritmo BN).\n",
    "\n",
    "El algoritmo de Canny es un popular método de detección de bordes, desarrollado por John F. Canny en 1986"
   ]
  },
  {
   "cell_type": "code",
   "execution_count": null,
   "id": "ad3c217c",
   "metadata": {},
   "outputs": [],
   "source": [
    "def count_plants(image, image_transformed, title1=\"Imagen original\", title2=\"Imagen transformada\", EstimacionManual = 0, description=\"Resultados\"):\n",
    "    \"\"\"\n",
    "        Get edges of objects in the images and count them\n",
    "    \"\"\"    \n",
    "\n",
    "    ### 1. Imagen original\n",
    "    # Convertimos a escala de grises\n",
    "    gris = cv2.cvtColor(image, cv2.COLOR_BGR2GRAY)\n",
    " \n",
    "    # Aplicar suavizado Gaussiano\n",
    "    gauss = cv2.GaussianBlur(gris, (5,5), 0)\n",
    "  \n",
    "    # Detectamos los bordes con Canny\n",
    "    canny = cv.Canny(gauss, 50, 150)\n",
    "  \n",
    "    # Buscamos los contornos\n",
    "    (contornos_image,_) = cv2.findContours(canny.copy(), cv2.RETR_EXTERNAL, cv2.CHAIN_APPROX_SIMPLE)\n",
    "    cv2.drawContours(image, contornos_image,-1,(0,0,255), 2)\n",
    "    \n",
    "    \n",
    "    ### 2. Imagen transformada\n",
    "    ## Imagen transformada\n",
    "    gaussTrans = cv2.GaussianBlur(image_transformed, (5,5), 0)\n",
    "\n",
    "    cannyTrnas = cv2.Canny(gaussTrans, 50, 150)\n",
    " \n",
    "    # Buscamos los contornos\n",
    "    (contornos_image_transformed,_) = cv2.findContours(cannyTrnas.copy(), cv2.RETR_EXTERNAL, cv2.CHAIN_APPROX_SIMPLE)       \n",
    "\n",
    "    cv2.drawContours(image_transformed,contornos_image_transformed,-1,(0,0,255), 2)\n",
    "    \n",
    "    \n",
    "    ### Cálculos\n",
    "    mejora = 0\n",
    "    if (len(contornos_image_transformed) > 0):\n",
    "        mejora = round(((len(contornos_image_transformed) -len(contornos_image)) / len(contornos_image_transformed)) * 100,2)\n",
    "\n",
    "    print(\" \")\n",
    "    print(description)\n",
    "    print(\"----------------------------------------------- \")\n",
    "    print(\"Se encontraron\", format(len(contornos_image)), \" objetos en la imagen original y \", format(len(contornos_image_transformed)), \" en la transformada\")\n",
    "    diferencia_original = abs(EstimacionManual - len(contornos_image))\n",
    "    diferencia_transformada = abs(EstimacionManual - len(contornos_image))\n",
    "\n",
    "\n",
    "    f, (ax1, ax2) = plt.subplots(1, 2, sharex=False, sharey = False, figsize=(50,50))\n",
    "    ax1.set_title(title1)\n",
    "    ax1.imshow(image, extent=(0, 128, 128, 0), interpolation='nearest', cmap=\"gray\")     \n",
    "    ax2.set_title(title2)\n",
    "    ax2.imshow(image_transformed, extent=(0, 128, 128, 0), interpolation='nearest', cmap=\"gray\") \n",
    "    \n",
    "    #return contornos\n"
   ]
  },
  {
   "cell_type": "markdown",
   "id": "0ffbb8dd",
   "metadata": {},
   "source": [
    "## <a name=\"conversion\"></a> 3. Transformaciones \n",
    "\n",
    "\n",
    "#### Algoritmo BN\n",
    "\n",
    "El resultado del algoritmo será una imagen en blanco y negro, donde:\n",
    "\n",
    "    - Blanco: Representa área ocupada por materia vegetal.\n",
    "    - Negro: Todo lo no considerado como vegetal.\n",
    "\n",
    "Entrada / Salida\n",
    "\n",
    "    - Entrada: una imagen en color (formato .png .jpeg .jpg)\n",
    "    - Salida: array numpy de una imagen en blanco y negro.\n",
    "\n",
    "Funcionamiento:\n",
    "\n",
    "Una característica típica de las plantas herbáceas es su color verde, resultante de la absorción de los fotones rojos y azules y la reflexión de los verdes.\n",
    "\n",
    "El objetivo del algoritmo es identificar aquellas zonas donde las frecuencias de luz ROJAS y AZULES han sido absorvidas por la materia.\n",
    "\n",
    "Como paso previo a la conversión realizaremos una equalización de la imagen, con ella normalizaremos el brillo e incrementaremos su contraste.\n",
    "\n",
    "Una vez ecualizada, el algoritmo recorrerá los píxeles de la foto convirtiéndolos a su representación R,G,B.\n",
    "\n",
    "Finalmente aplicaremos una Erosión y una posterior Dilatación para eliminar los puntos blancos sueltos.\n",
    "\n",
    "Para identificar la masa vegetal comparará los valores R y B (rojo y azul) con los valores globales medios descontando su desviación típica.\n",
    "\n",
    "Si el valor en ambas bandas: \n",
    "\n",
    "    - es menor que el valor medio menos su desviación típica: se cambia a Blanco (es masa vegetal)    \n",
    "    - no es menor: se cambia a Negro (no es masa vegetal)\n",
    "   \n",
    "#### \n"
   ]
  },
  {
   "cell_type": "code",
   "execution_count": null,
   "id": "734ce63f",
   "metadata": {},
   "outputs": [],
   "source": [
    "import cv2\n",
    "\n",
    "def ConvierteBN_Erosion_Dilatacion_CamposArroz(imageObj):\n",
    "\n",
    "    #Descomponemos la imagen en sus canales RGB\n",
    "    blue, green, red = cv2.split(imageObj)\n",
    "    \n",
    "    # Cálculo de medias y varianzas para establecer el umbral.\n",
    "    media_azul = np.mean(blue)\n",
    "    media_rojo = np.mean(red)\n",
    "    media_verde = np.mean(green)\n",
    "    desviacion_azul = mt.sqrt(np.var(blue))\n",
    "    desviacion_rojo = mt.sqrt(np.var(red))\n",
    "    desviacion_verde = mt.sqrt(np.var(green))\n",
    "\n",
    "    #Cáculo de los umbrales\n",
    "    UMB_r = media_rojo - desviacion_rojo\n",
    "    UMB_b = media_azul - desviacion_azul\n",
    "    UMB_g = media_verde - desviacion_verde\n",
    "    row, col, pixel = imageObj.shape\n",
    "\n",
    "    # Construimos los canales para su visualización\t\n",
    "    zeros = np.zeros(blue.shape, np.uint8)\t\n",
    "    blueBGR = cv2.merge((blue,zeros,zeros))\n",
    "    greenBGR = cv2.merge((zeros,green,zeros))\n",
    "    redBGR = cv2.merge((zeros,zeros,red))\n",
    "\n",
    "    # or ( (media_verde - desviacion_verde) < green[x,y] < (media_verde + desviacion_verde))    \n",
    "\n",
    "    for x in range(0, row, 1):\n",
    "        for y in range(0, col, 1):\n",
    "            if ( ( (blue[x,y] < UMB_b)  and (red[x,y] < UMB_r) ) ):\n",
    "                blue[x,y] = 255\n",
    "                red[x,y]= 255\n",
    "                green[x,y]=255\n",
    "            else:\n",
    "                \n",
    "                blue[x,y] = 0\n",
    "                red[x,y]=  0\n",
    "                green[x,y]= 0\n",
    "    \n",
    "    # Volvemos a unir los canales para la salida.\n",
    "    unionBGR = cv2.merge((blue,green,red))\n",
    "    \n",
    "    # Aplicamos la erosión y dilatación para eliminar puntos blanco sueltos\n",
    "    kernel_erosion = np.ones((3,3), np.uint8)\n",
    "    img_erosion = cv2.erode(unionBGR, kernel_erosion, iterations=1)\n",
    "    kernel_dilatacion = np.ones((5,5), np.uint8)\n",
    "    unionBGR = cv2.dilate(img_erosion, kernel_dilatacion, iterations=2)\n",
    "\n",
    "    # Mostramos los canales y la imagen resultado\n",
    "    f, (ax1, ax2, ax3, ax4) = plt.subplots(1, 4, sharex=False, sharey = False, figsize=(150,150))\n",
    "\n",
    "    ax1.set_title(\"Original azul\")\n",
    "    ax2.set_title(\"Original verde\")\n",
    "    ax3.set_title(\"Original rojo\")\n",
    "    ax4.set_title(\"Unión Transformada\")\n",
    "    \n",
    "    ax1.imshow(blueBGR, extent=(0, 128, 128, 0), interpolation='nearest', cmap=\"gray\")\n",
    "    ax2.imshow(greenBGR, extent=(0, 128, 128, 0), interpolation='nearest', cmap=\"gray\")\n",
    "    ax3.imshow(redBGR, extent=(0, 128, 128, 0), interpolation='nearest', cmap=\"gray\")\n",
    "    ax4.imshow(unionBGR, extent=(0, 128, 128, 0), interpolation='nearest', cmap=\"gray\")          \n",
    "\n",
    "    return unionBGR"
   ]
  },
  {
   "cell_type": "markdown",
   "id": "c549e751",
   "metadata": {},
   "source": [
    "# <a name=\"results\"></a>Resultados"
   ]
  },
  {
   "cell_type": "markdown",
   "id": "62688e51",
   "metadata": {},
   "source": [
    "### <a name=\"res1\"></a>Resultados Imagen 1"
   ]
  },
  {
   "cell_type": "code",
   "execution_count": null,
   "id": "d57041ac",
   "metadata": {
    "scrolled": true
   },
   "outputs": [],
   "source": [
    "\"\"\"\n",
    "    >> Resultados Pre-Procesamiento Imagen 1\n",
    "    0. Captura Imagen original\n",
    "    1. Algoritmo BN (con erosión + dilatación)\n",
    "    3. Visualización imagen original y resultado\n",
    "\"\"\"\n",
    "image_path_1 = './images/campo01.png'\n",
    "image_1 = get_image(image_path_1)\n",
    "\n",
    "result_image_bn_1 = ConvierteBN_Erosion_Dilatacion_CamposArroz(image_1)"
   ]
  },
  {
   "cell_type": "code",
   "execution_count": null,
   "id": "38b45936",
   "metadata": {
    "scrolled": false
   },
   "outputs": [],
   "source": [
    "\"\"\"\n",
    "    Imagen original vs Imagen original + Algoritmo BN\n",
    "\"\"\"\n",
    "visualize(image_1, result_image_bn_1)   "
   ]
  },
  {
   "cell_type": "code",
   "execution_count": null,
   "id": "f4c665d7",
   "metadata": {
    "scrolled": true
   },
   "outputs": [],
   "source": [
    "\"\"\"\n",
    "    >> Resultados Pre-Procesamiento Imagen 1\n",
    "    0. Captura Imagen original\n",
    "    1. Ecualización histograma imagen\n",
    "    2. Algoritmo BN (con erosión + dilatación)\n",
    "    3. Visualización imagen original y resultado\n",
    "\"\"\"\n",
    "image_equalized_1 = get_image_histogram_equalization(image_1)\n",
    "result_image_equalized_bn_1 = ConvierteBN_Erosion_Dilatacion_CamposArroz(image_equalized_1)"
   ]
  },
  {
   "cell_type": "code",
   "execution_count": null,
   "id": "419a8bf9",
   "metadata": {},
   "outputs": [],
   "source": [
    "\"\"\"\n",
    "    Imagen original vs Imagen original + Ecualización + Algoritmo BN\n",
    "\"\"\"\n",
    "visualize(image_1, result_image_equalized_bn_1)"
   ]
  },
  {
   "cell_type": "code",
   "execution_count": null,
   "id": "8e6c11be",
   "metadata": {},
   "outputs": [],
   "source": [
    "\"\"\"\n",
    "    Comprobación resultados con algoritmo canny\n",
    "\"\"\"\n",
    "image_path_1 = './images/campo01.png'\n",
    "image_1 = get_image(image_path_1)\n",
    "result_image_bn_1 = ConvierteBN_Erosion_Dilatacion_CamposArroz(image_1)\n",
    "count_plants(image_1, result_image_bn_1, description= \"Algoritmo BN + Erosion&Dilatacion\")\n",
    "\n",
    "image_path_1 = './images/campo01.png'\n",
    "image_1 = get_image(image_path_1)\n",
    "image_equalized_1 = get_image_histogram_equalization(image_1)\n",
    "result_image_equalized_bn_1 = ConvierteBN_Erosion_Dilatacion_CamposArroz(image_equalized_1)\n",
    "count_plants(image_1, result_image_equalized_bn_1, description= \"Ecualización + Algoritmo BN + Erosion&Dilatacion\")"
   ]
  },
  {
   "cell_type": "markdown",
   "id": "3ac92e17",
   "metadata": {},
   "source": [
    "### <a name=\"res2\"></a>Resultados Imagen 2"
   ]
  },
  {
   "cell_type": "code",
   "execution_count": null,
   "id": "e8d78879",
   "metadata": {},
   "outputs": [],
   "source": [
    "\n",
    "\"\"\"\n",
    "    >> Resultados Pre-Procesamiento Imagen 2\n",
    "    0. Captura Imagen original\n",
    "    1. Algoritmo BN (con erosión + dilatación)\n",
    "    2. Visualización imagen original y resultado\n",
    "\"\"\"\n",
    "image_path_2 = './images/campo02.png'\n",
    "image_2 = get_image(image_path_2)\n",
    "\n",
    "result_image_bn_2 = ConvierteBN_Erosion_Dilatacion_CamposArroz(image_2)"
   ]
  },
  {
   "cell_type": "code",
   "execution_count": null,
   "id": "feaec5af",
   "metadata": {},
   "outputs": [],
   "source": [
    "\"\"\"\n",
    "    Imagen original vs Imagen original + Algoritmo BN\n",
    "\"\"\"\n",
    "visualize(image_2, result_image_bn_2)  "
   ]
  },
  {
   "cell_type": "code",
   "execution_count": null,
   "id": "038bbd6c",
   "metadata": {},
   "outputs": [],
   "source": [
    "\n",
    "\"\"\"\n",
    "    >> Resultados Pre-Procesamiento Imagen 2\n",
    "    0. Captura Imagen original\n",
    "    1. Ecualización histograma imagen\n",
    "    2. Algoritmo BN (con erosión + dilatación)\n",
    "    3. Visualización imagen original y resultado\n",
    "\"\"\"\n",
    "image_equalized_2 = get_image_histogram_equalization(image_2)\n",
    "result_image_equalized_bn_2 = ConvierteBN_Erosion_Dilatacion_CamposArroz(image_equalized_2)"
   ]
  },
  {
   "cell_type": "code",
   "execution_count": null,
   "id": "6f44cfaf",
   "metadata": {},
   "outputs": [],
   "source": [
    "\"\"\"\n",
    "    Imagen original vs Imagen original + Ecualización + Algoritmo BN\n",
    "\"\"\"\n",
    "visualize(image_2, result_image_equalized_bn_2)"
   ]
  },
  {
   "cell_type": "code",
   "execution_count": null,
   "id": "9fe32c50",
   "metadata": {},
   "outputs": [],
   "source": [
    "\"\"\"\n",
    "    Comprobación resultados con algoritmo canny\n",
    "\"\"\"\n",
    "image_path_2 = './images/campo02.png'\n",
    "image_2 = get_image(image_path_2)\n",
    "result_image_bn_2 = ConvierteBN_Erosion_Dilatacion_CamposArroz(image_2)\n",
    "count_plants(image_2, result_image_bn_2, description= \"Algoritmo BN + Erosion&Dilatacion\")\n",
    "\n",
    "image_path_2 = './images/campo02.png'\n",
    "image_2 = get_image(image_path_2)\n",
    "image_equalized_2 = get_image_histogram_equalization(image_2)\n",
    "result_image_equalized_bn_2 = ConvierteBN_Erosion_Dilatacion_CamposArroz(image_equalized_2)\n",
    "count_plants(image_2, result_image_equalized_bn_2, description= \"Ecualización + Algoritmo BN + Erosion&Dilatacion\")"
   ]
  },
  {
   "cell_type": "markdown",
   "id": "309c93d8",
   "metadata": {},
   "source": [
    "### <a name=\"res3\"></a>Resultados Imagen 3"
   ]
  },
  {
   "cell_type": "code",
   "execution_count": null,
   "id": "d51c53b4",
   "metadata": {},
   "outputs": [],
   "source": [
    "\"\"\"\n",
    "    >> Resultados Pre-Procesamiento Imagen 3\n",
    "    0. Captura Imagen original\n",
    "    1. Algoritmo BN (con erosión + dilatación)\n",
    "    2. Visualización imagen original y resultado\n",
    "\"\"\"\n",
    "image_path_3 = './images/campo03.jpg'\n",
    "image_3 = get_image(image_path_3)\n",
    "\n",
    "result_image_bn_3 = ConvierteBN_Erosion_Dilatacion_CamposArroz(image_3)"
   ]
  },
  {
   "cell_type": "code",
   "execution_count": null,
   "id": "aec1bfc0",
   "metadata": {},
   "outputs": [],
   "source": [
    "\"\"\"\n",
    "    Imagen original vs Imagen original + Algoritmo BN\n",
    "\"\"\"\n",
    "visualize(image_3, result_image_bn_3)   "
   ]
  },
  {
   "cell_type": "code",
   "execution_count": null,
   "id": "1bdd7d1a",
   "metadata": {},
   "outputs": [],
   "source": [
    "\"\"\"\n",
    "    Imagen original vs Imagen original + Algoritmo BN\n",
    "\"\"\"\n",
    "visualize(image_3, result_image_bn_3)   \n",
    "\n",
    "\n",
    "\"\"\"\n",
    "    >> Resultados Pre-Procesamiento Imagen 3\n",
    "    0. Captura Imagen original\n",
    "    1. Ecualización histograma imagen\n",
    "    2. Algoritmo BN (con erosión + dilatación)\n",
    "    3. Visualización imagen original y resultado\n",
    "\"\"\"\n",
    "image_equalized_3 = get_image_histogram_equalization(image_3)\n",
    "result_image_equalized_bn_3 = ConvierteBN_Erosion_Dilatacion_CamposArroz(image_equalized_3)"
   ]
  },
  {
   "cell_type": "code",
   "execution_count": null,
   "id": "8d785c9d",
   "metadata": {},
   "outputs": [],
   "source": [
    "\"\"\"\n",
    "    Imagen original vs Imagen original + Ecualización + Algoritmo BN\n",
    "\"\"\"\n",
    "visualize(image_3, result_image_equalized_bn_3)"
   ]
  },
  {
   "cell_type": "code",
   "execution_count": null,
   "id": "838bbec9",
   "metadata": {},
   "outputs": [],
   "source": [
    "\"\"\"\n",
    "    Comprobación resultados con algoritmo canny\n",
    "\"\"\"\n",
    "image_path_3 = './images/campo03.jpg'\n",
    "image_3 = get_image(image_path_3)\n",
    "result_image_bn_3 = ConvierteBN_Erosion_Dilatacion_CamposArroz(image_3)\n",
    "count_plants(image_3, result_image_bn_3, description= \"Algoritmo BN + Erosion&Dilatacion\")\n",
    "\n",
    "image_path_3 = './images/campo03.jpg'\n",
    "image_3 = get_image(image_path_3)\n",
    "image_equalized_3 = get_image_histogram_equalization(image_3)\n",
    "result_image_equalized_bn_3 = ConvierteBN_Erosion_Dilatacion_CamposArroz(image_equalized_3)\n",
    "count_plants(image_3, result_image_equalized_bn_3, description= \"Ecualización + Algoritmo BN + Erosion&Dilatacion\")"
   ]
  },
  {
   "cell_type": "markdown",
   "id": "28cb375c",
   "metadata": {},
   "source": [
    "### <a name=\"res4\"></a>Resultados Imagen 4"
   ]
  },
  {
   "cell_type": "code",
   "execution_count": null,
   "id": "a8c6a16a",
   "metadata": {},
   "outputs": [],
   "source": [
    "\"\"\"\n",
    "    >> Resultados Pre-Procesamiento Imagen 4\n",
    "    0. Captura Imagen original\n",
    "    1. Algoritmo BN (con erosión + dilatación)\n",
    "    2. Visualización imagen original y resultado\n",
    "\"\"\"\n",
    "image_path_4 = './images/campo04.jpeg'\n",
    "image_4 = get_image(image_path_4)\n",
    "\n",
    "result_image_bn_4 = ConvierteBN_Erosion_Dilatacion_CamposArroz(image_4)"
   ]
  },
  {
   "cell_type": "code",
   "execution_count": null,
   "id": "c740d355",
   "metadata": {},
   "outputs": [],
   "source": [
    "\"\"\"\n",
    "    Imagen original vs Imagen original + Algoritmo BN\n",
    "\"\"\"\n",
    "visualize(image_4, result_image_bn_4)   "
   ]
  },
  {
   "cell_type": "code",
   "execution_count": null,
   "id": "9e0e00ad",
   "metadata": {},
   "outputs": [],
   "source": [
    "\"\"\"\n",
    "    >> Resultados Pre-Procesamiento Imagen 4\n",
    "    0. Captura Imagen original\n",
    "    1. Ecualización histograma imagen\n",
    "    2. Algoritmo BN (con erosión + dilatación)\n",
    "    3. Visualización imagen original y resultado\n",
    "\"\"\"\n",
    "image_equalized_4 = get_image_histogram_equalization(image_4)\n",
    "result_image_equalized_bn_4 = ConvierteBN_Erosion_Dilatacion_CamposArroz(image_equalized_4)"
   ]
  },
  {
   "cell_type": "code",
   "execution_count": null,
   "id": "7e735677",
   "metadata": {},
   "outputs": [],
   "source": [
    "\"\"\"\n",
    "    Imagen original vs Imagen original + Ecualización + Algoritmo BN\n",
    "\"\"\"\n",
    "visualize(image_4, result_image_equalized_bn_4)"
   ]
  },
  {
   "cell_type": "code",
   "execution_count": null,
   "id": "3a1e6fe6",
   "metadata": {},
   "outputs": [],
   "source": [
    "\"\"\"\n",
    "    Comprobación resultados con algoritmo canny\n",
    "\"\"\"\n",
    "image_path_4 = './images/campo04.jpeg'\n",
    "image_4 = get_image(image_path_4)\n",
    "result_image_bn_4 = ConvierteBN_Erosion_Dilatacion_CamposArroz(image_4)\n",
    "count_plants(image_4, result_image_bn_4, description= \"Algoritmo BN + Erosion&Dilatacion\")\n",
    "\n",
    "image_path_4 = './images/campo04.jpeg'\n",
    "image_4 = get_image(image_path_4)\n",
    "image_equalized_4 = get_image_histogram_equalization(image_4)\n",
    "result_image_equalized_bn_4 = ConvierteBN_Erosion_Dilatacion_CamposArroz(image_equalized_4)\n",
    "count_plants(image_4, result_image_equalized_bn_4, description= \"Ecualización + Algoritmo BN + Erosion&Dilatacion\")"
   ]
  },
  {
   "cell_type": "markdown",
   "id": "1ed0ceba",
   "metadata": {},
   "source": [
    "## <a name=\"references\"></a> Referencias\n",
    "\n",
    "\n",
    "- Color Systems\n",
    "http://color.lukas-stratmann.com/color-systems/rgb.html\n",
    "\n",
    "- Get histogram for image\n",
    "https://docs.opencv.org/4.x/d1/db7/tutorial_py_histogram_begins.html\n",
    "\n",
    "- Histogram equalization\n",
    "https://docs.opencv.org/3.4/d4/d1b/tutorial_histogram_equalization.html\n",
    "\n",
    "- Detector de bordes Canny cómo contar objetos con OpenCV y Python\n",
    "https://programarfacil.com/blog/vision-artificial/detector-de-bordes-canny-opencv/#Algoritmo_para_contar_objetos_con_OpenCV\n"
   ]
  },
  {
   "cell_type": "code",
   "execution_count": null,
   "id": "36de2fee",
   "metadata": {},
   "outputs": [],
   "source": []
  }
 ],
 "metadata": {
  "interpreter": {
   "hash": "70942c265b22fd5f1d77799a3194020c7a7755da9b17f9d043bbb7f34ea87b54"
  },
  "kernelspec": {
   "display_name": "Python 3 (ipykernel)",
   "language": "python",
   "name": "python3"
  },
  "language_info": {
   "codemirror_mode": {
    "name": "ipython",
    "version": 3
   },
   "file_extension": ".py",
   "mimetype": "text/x-python",
   "name": "python",
   "nbconvert_exporter": "python",
   "pygments_lexer": "ipython3",
   "version": "3.9.7"
  }
 },
 "nbformat": 4,
 "nbformat_minor": 5
}
